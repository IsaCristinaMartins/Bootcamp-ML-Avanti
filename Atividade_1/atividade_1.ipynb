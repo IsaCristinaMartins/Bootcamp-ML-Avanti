{
 "cells": [
  {
   "cell_type": "markdown",
   "id": "c1383db8",
   "metadata": {},
   "source": [
    "# Explique, com suas palavras, o que é machine learning?"
   ]
  },
  {
   "cell_type": "markdown",
   "id": "a6faa909",
   "metadata": {},
   "source": [
    "É uma forma de mostrar e explicar ao programa/computador como ele pode fazer \"tal função\". No começo ele vai fazendo a atividade que você ensinou meio que precisando de direcionamento, porém depois conforme você vai ajustando o modelo, ele vai se aprimorando na atividade. É como se fosse uma criança que quanto mais exemplos ela vê, mais espertoa sobe aquele tema ela fica. O intuito é ao final dos treinos e aprimoramentos, é ela conseguir tomar decisões ou prever ocisas baseado no que já aprendeu.  "
   ]
  },
  {
   "cell_type": "markdown",
   "id": "1c1fd18b",
   "metadata": {},
   "source": [
    "# Explique o conceito de conjunto de treinamento, conjunto de validação e conjunto de teste em machine learning"
   ]
  },
  {
   "cell_type": "markdown",
   "id": "f7b8ebaf",
   "metadata": {},
   "source": [
    "Para que esse processo de aprendizado seja realizado é preciso que a quantidade de informações que irão ser explicadas seja dividido em 3 conjuntos: conjunto de treinamento, conjunto de validação e conjunto de teste.O conjunto de treinamento, como o próprio nome já diz são os dados em que o modelo vai aprender sobre o assunto. Ao \"ver\" os dados escolhidos, ele vai aprender os padrões e ajustar seus parâmetros. Já o conjunto de validação, é tipo um \"chefão do meio da fase\". É com esse conjunto que o modelo irá entender se entendeu de maneira correta os dados, e caso não tenha entendido, ele volta para \"estudar mais\" para ir melhor preparado para a \"chefão final\". O conjunto de teste é a grande prova final para entender se o modelo foi bem treinado, isso é, se ele está realmente compreendendo o que precisa ser feito ou não.  "
   ]
  },
  {
   "cell_type": "markdown",
   "id": "ce515422",
   "metadata": {},
   "source": [
    "# Explique como você lidaria com dados ausentes em um conjunto de dados de treinamento."
   ]
  },
  {
   "cell_type": "markdown",
   "id": "858845a4",
   "metadata": {},
   "source": [
    "Se um dataset tem dados faltantes é preciso entender qual o tipo de dado que é e a quantidade de dados ausentes. O entendimento do porquê esses dados estão faltando vão determinar as próximas tomadas de decisão. Explico: se esses dados estão faltando por 'não digitação' numa pesquisa de cunho muito sensível, isso pode me dizer que os entrevistados não se sentiram a vonta de responder a pergunta e isso também é um dados dentro dessa pesquisa de cunho sensível. Entretanto, se o dado faltoso não está lá por 'falha num sensor' isso também pode impactar no entendimento. Se esses dados faltosos forem menores de 5%, e sua amostragem for significativa, é possível que a exclusão da linha/coluna inteira não afete nos treinos e testes. Podemos também, preencher esses valores com a média ou mediana dos valores presentes, em casos de variáveis numéricas; preencher com a moda, para variáveis categóricas ou até mesmo utilizar outros modelos preditivos que consigam prever de acordo com os outros dados existente qual seria o valor que deveria está ali naquela lacuna. Uma outra alternativa é a utilização de algoritmos que lidam bem com dados ausentes, exemplo ávores de decisão que conseguem lidar com os dados faltantes sem precisar preeenche-los. "
   ]
  },
  {
   "cell_type": "markdown",
   "id": "6db61a89",
   "metadata": {},
   "source": [
    "# O que é uma matriz de confusão e como ela é usada para avaliar o desempenho de um modelo preditivo?"
   ]
  },
  {
   "cell_type": "markdown",
   "id": "9334d074",
   "metadata": {},
   "source": [
    "É uma espécie de tabela usada para avaliar o desempenho de um modelo de classificação. Nela estarão quantificado quantas vezes o modelo acertou/errou em cada tipo de previsão. Ela vai comparar o que o modelo realmente previu com o que realmente era verdadeiro, isso quando o problema de classificação for binária (sim/não, positivo/negativo).   \n",
    "\n",
    "|                    | **Previsto: Positivo**          | **Previsto: Negativo**         |\n",
    "| ------------------ | ------------------------------- | ------------------------------ |\n",
    "| **Real: Positivo** | ✅ **Verdadeiro Positivo (VP)** | ❌ **Falso Negativo (FN)**      |\n",
    "| **Real: Negativo** | ❌ **Falso Positivo (FP)**      | ✅ **Verdadeiro Negativo (VN)** |\n",
    "\n",
    "\n",
    "É com esses valores que você vai calcular métricas que vão te direcionar tais como:\n",
    "- Acurácia (percentual de acertos totais): (VP + VN)/ total\n",
    "- Precisão (dos que ele disse que era positivo, quantos ele estava certo?): VP/(VP+FP)\n",
    "- Recall (sensibilidade; dos que eram realmente positivo, quantos ele acertou): VP/(VP+FN) \n",
    "- F1-Score: equilíbrio entre precisão e recall. \n",
    "\n",
    "\n"
   ]
  },
  {
   "cell_type": "markdown",
   "id": "33ecd7f2",
   "metadata": {},
   "source": [
    "# Em quais áreas (tais como construção civil, agricultura, saúde, manufatura, entre outras) você acha mais interessante aplicar algoritmos de machine learning?"
   ]
  },
  {
   "cell_type": "markdown",
   "id": "cf0eb830",
   "metadata": {},
   "source": [
    "Essa é a mágica do machine learning, ela pode ser aplicável em quase todos os setores, a excessão dos setores com pouca ou nenhum dado, atividades artesanais ou onde a criatividade subjetiva seja necessário, setores com forte resistência ética ou regulatória tais como decisões judiciais, intervenção psicológica, de resto o machine learning irá funcionar muito bem. \n",
    "Uma das áreas que eu mais adimiro a utilização do ML são as áreas da saúde (ajuda no diagnóstico precoce de doenças e até na personalização de tratamentos), tem também na agricultura (prever safras, identificar pragas, otimizar o uso de água e fertilizntes), temos no setor de finanças (com a análise de risco, detecção de fraude), no transporte e logistica (otimização de rotas e manutenção preditiva de frotas) e etc.. "
   ]
  }
 ],
 "metadata": {
  "language_info": {
   "name": "python"
  }
 },
 "nbformat": 4,
 "nbformat_minor": 5
}
