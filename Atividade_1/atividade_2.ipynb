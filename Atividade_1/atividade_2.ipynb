{
 "cells": [
  {
   "cell_type": "markdown",
   "id": "b37b0781",
   "metadata": {},
   "source": [
    "### 1. Escreva uma função que receba uma lista de números e retorne outra lista com os números ímpares.\n"
   ]
  },
  {
   "cell_type": "code",
   "execution_count": 8,
   "id": "17ac97d0",
   "metadata": {},
   "outputs": [
    {
     "name": "stdout",
     "output_type": "stream",
     "text": [
      "Os números ímpares são: [1, 3, 5, 7]\n"
     ]
    }
   ],
   "source": [
    "def filtrar_impares(lista):\n",
    "    return [num for num in lista if num % 2 != 0]\n",
    "\n",
    "\n",
    "# Teste\n",
    "numeros = [1, 2, 3, 4, 5, 6, 7]\n",
    "impares = filtrar_impares(numeros)\n",
    "print(f\"Os números ímpares são: {impares}\")"
   ]
  },
  {
   "cell_type": "markdown",
   "id": "4ae12aed",
   "metadata": {},
   "source": [
    "### 2. Escreva uma função que receba uma lista de números e retorne outra lista com os números primos presentes.\n"
   ]
  },
  {
   "cell_type": "code",
   "execution_count": 6,
   "id": "5560d385",
   "metadata": {},
   "outputs": [
    {
     "name": "stdout",
     "output_type": "stream",
     "text": [
      "Os números primos são:, [2, 3, 5, 7, 11]\n"
     ]
    }
   ],
   "source": [
    "def verifica_primo(n):\n",
    "    if n < 2:\n",
    "        return False\n",
    "    for i in range(2, int(n**0.5) + 1):\n",
    "        if n % i == 0:\n",
    "            return False\n",
    "    return True\n",
    "\n",
    "\n",
    "\n",
    "def filtrar_primos(lista):\n",
    "    return [num for num in lista if verifica_primo(num)]\n",
    "\n",
    "\n",
    "# Teste\n",
    "numeros = [1, 2, 3, 4, 5, 6, 7, 8, 9, 10, 11]\n",
    "primos = filtrar_primos(numeros)\n",
    "print(f\"Os números primos são:, {primos}\") "
   ]
  },
  {
   "cell_type": "markdown",
   "id": "6970dbcd",
   "metadata": {},
   "source": [
    "### 3. Escreva uma função que receba duas listas e retorne outra lista com os elementos que estão presentes em apenas uma das listas."
   ]
  },
  {
   "cell_type": "code",
   "execution_count": 9,
   "id": "7c4cb254",
   "metadata": {},
   "outputs": [
    {
     "name": "stdout",
     "output_type": "stream",
     "text": [
      "[1, 2, 5, 6]\n"
     ]
    }
   ],
   "source": [
    "def elementos_unicos(lista1, lista2):\n",
    "    resultado = []\n",
    "    \n",
    "    for item in lista1:\n",
    "        if item not in lista2 and item not in resultado:\n",
    "            resultado.append(item)\n",
    "    \n",
    "    for item in lista2:\n",
    "        if item not in lista1 and item not in resultado:\n",
    "            resultado.append(item)\n",
    "    \n",
    "    return resultado\n",
    "\n",
    "\n",
    "\n",
    "\n",
    "# Teste \n",
    "\n",
    "\n",
    "a = [1, 2, 3, 4]\n",
    "b = [3, 4, 5, 6]\n",
    "\n",
    "print(elementos_unicos(a, b))"
   ]
  },
  {
   "cell_type": "markdown",
   "id": "c490d71b",
   "metadata": {},
   "source": [
    "### 4. Dada uma lista de números inteiros, escreva uma função para encontrar o segundo maior valor na lista.\n"
   ]
  },
  {
   "cell_type": "code",
   "execution_count": 10,
   "id": "c73241b5",
   "metadata": {},
   "outputs": [
    {
     "name": "stdout",
     "output_type": "stream",
     "text": [
      "Segundo maior: 9\n"
     ]
    }
   ],
   "source": [
    "def segundo_maior(lista):\n",
    "    if len(lista) < 2:\n",
    "        return None      \n",
    "    \n",
    "    maior = None\n",
    "    segundo = None\n",
    "\n",
    "    for num in lista:\n",
    "        if maior is None or num > maior:\n",
    "            segundo = maior\n",
    "            maior = num\n",
    "        elif num != maior and (segundo is None or num > segundo):\n",
    "            segundo = num\n",
    "\n",
    "    return segundo\n",
    "\n",
    "\n",
    "numeros = [4, 1, 7, 7, 3, 5, 9, 10]\n",
    "print(\"Segundo maior:\", segundo_maior(numeros))  \n"
   ]
  },
  {
   "cell_type": "markdown",
   "id": "48ae0180",
   "metadata": {},
   "source": [
    "### 5. Crie uma função que receba uma lista de tuplas, cada uma contendo o nome e a idade de uma pessoa, e retorne a lista ordenada pelo nome das pessoas em ordem alfabética."
   ]
  },
  {
   "cell_type": "code",
   "execution_count": 2,
   "id": "bf53d50a",
   "metadata": {},
   "outputs": [
    {
     "name": "stdout",
     "output_type": "stream",
     "text": [
      "[('Ana', 30), ('Bruno', 20), ('Carlos', 25)]\n"
     ]
    }
   ],
   "source": [
    "def ordenar_por_nome(lista):\n",
    "    \n",
    "    def pegar_nome(pessoa):\n",
    "        return pessoa[0]\n",
    "\n",
    "   \n",
    "    lista_ordenada = sorted(lista, key=pegar_nome)\n",
    "    return lista_ordenada\n",
    "\n",
    "pessoas = [(\"Carlos\", 25), (\"Ana\", 30), (\"Bruno\", 20)]\n",
    "ordenadas = ordenar_por_nome(pessoas)\n",
    "print(ordenadas)\n"
   ]
  },
  {
   "cell_type": "markdown",
   "id": "10df71a7",
   "metadata": {},
   "source": [
    "### 6. Como identificar e tratar outliers em uma coluna numérica usando desvio padrão ou quartis?"
   ]
  },
  {
   "cell_type": "markdown",
   "id": "6f58f086",
   "metadata": {},
   "source": [
    "Os outliers são os valores que estão abaixo do Q1-1.5*IQR ou acima do Q3 + 1.5*IQR. Se os dados estiverem uma distribuição normal - em formato de sino - deve-se usar o desvio padrão, entretanto se os dados forem assimétricos é melhor usar o IQR/quartis.  "
   ]
  },
  {
   "cell_type": "markdown",
   "id": "4cea991a",
   "metadata": {},
   "source": [
    "### 7. Como concatenar vários DataFrames (empilhando linhas ou colunas), mesmo que tenham colunas diferentes? Dica: Utiliza-se pd.concat() especificando axis=0 (linhas) ou axis=1 (colunas). Quando há colunas diferentes, os valores ausentes são preenchidos com NaN.\n"
   ]
  },
  {
   "cell_type": "markdown",
   "id": "69b8f570",
   "metadata": {},
   "source": [
    " Para concatenar vários DataFrames no pandas, mesmo que eles tenham colunas diferentes, você pode usar a função pd.concat(). \n",
    " Essa função permite juntar DataFrames tanto verticalmente (empilhando as linhas) quanto horizontalmente (empilhando as colunas), dependendo do valor do parâmetro axis.\n",
    " O interessante é que mesmo quando os DataFrames têm colunas diferentes, o pd.concat() ainda funciona: ele vai alinhar os dados pelas colunas e preencher com NaN onde não houver correspondência. "
   ]
  },
  {
   "cell_type": "markdown",
   "id": "72d6c0c9",
   "metadata": {},
   "source": [
    "### 8. Utilizando pandas, como realizar a leitura de um arquivo CSV em um DataFrame e exibir as primeiras linhas?"
   ]
  },
  {
   "cell_type": "markdown",
   "id": "3d9a21fa",
   "metadata": {},
   "source": [
    "Utilizando >> pd.read_csv(\"nome_do_seu_aquivo_aqui.csv\") e após carregar os dados, para exibir as primeiras linhas do DataFrame e ter uma visão geral das informações, utiliza o método >>> .head()\n",
    "\n",
    "exemplo:\n",
    "\n",
    "um_nome_qualquer =  pd.read_csv(\"nome_do_seu_aquivo_aqui.csv\")\n",
    "\n",
    "um_nome_qualquer.head()"
   ]
  },
  {
   "cell_type": "markdown",
   "id": "069a54c7",
   "metadata": {},
   "source": [
    "### 9. Utilizando pandas, como selecionar uma coluna específica e filtrar linhas em um “DataFrame” com base em uma condição?\n"
   ]
  },
  {
   "cell_type": "markdown",
   "id": "e6426122",
   "metadata": {},
   "source": [
    "Basta fazer um >>>  nome_do_data_frame['nome_da_coluna']. Para filtrar é preciso criar uma espécie de condição, assim: \n",
    "\n",
    "\n",
    "nome_do_data_frame[nome_do_data_frame['nome_da_coluna'] > ou > ou == ['coloque sua condição aqui']]"
   ]
  },
  {
   "cell_type": "markdown",
   "id": "e17b94ff",
   "metadata": {},
   "source": [
    "### 10. Utilizando pandas, como lidar com valores ausentes (NaN) em um DataFrame?"
   ]
  },
  {
   "cell_type": "code",
   "execution_count": null,
   "id": "626fdbe2",
   "metadata": {},
   "outputs": [],
   "source": [
    "# Para lidar com os valores ausentes é preciso entender o contexto e o objetivo da análise. Inicialmente podemos identificar os valores ausentes com '.isna()' ou '.isnull()' que retorna um \n",
    "# dataframe booleano indicando se existe a presença de NaN. Depois, tem duas opções principais: remover ou preencher. Se quiser excluir os dados faltantes, pode usar dropna(), \n",
    "# seja para linhas ou colunas. Mas se preferir manter os dados e só completar o que está faltando, dá pra usar fillna() — preenchendo com zero, com a média da coluna ou até\n",
    "#  com o valor anterior ou seguinte.\n",
    "\n",
    "# Exemplos:        \n",
    "nome_do_dataframe.isna()\n",
    "\n",
    "nome_do_dataframe.isna().sum()\n"
   ]
  }
 ],
 "metadata": {
  "kernelspec": {
   "display_name": "bml-venv",
   "language": "python",
   "name": "python3"
  },
  "language_info": {
   "codemirror_mode": {
    "name": "ipython",
    "version": 3
   },
   "file_extension": ".py",
   "mimetype": "text/x-python",
   "name": "python",
   "nbconvert_exporter": "python",
   "pygments_lexer": "ipython3",
   "version": "3.9.13"
  }
 },
 "nbformat": 4,
 "nbformat_minor": 5
}
